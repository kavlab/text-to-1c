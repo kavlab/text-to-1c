{
 "cells": [
  {
   "cell_type": "code",
   "execution_count": 1,
   "id": "942ed5d3",
   "metadata": {},
   "outputs": [],
   "source": [
    "import numpy as np\n",
    "from statsmodels.stats.proportion import proportion_confint\n",
    "import pandas as pd\n",
    "from evaluate_model import component_matching_f1"
   ]
  },
  {
   "cell_type": "code",
   "execution_count": 2,
   "id": "96ca5ac8",
   "metadata": {},
   "outputs": [
    {
     "name": "stdout",
     "output_type": "stream",
     "text": [
      "<class 'pandas.core.frame.DataFrame'>\n",
      "Index: 962 entries, 0 to 961\n",
      "Data columns (total 2 columns):\n",
      " #   Column  Non-Null Count  Dtype \n",
      "---  ------  --------------  ----- \n",
      " 0   ref     962 non-null    object\n",
      " 1   pred    962 non-null    object\n",
      "dtypes: object(2)\n",
      "memory usage: 22.5+ KB\n"
     ]
    }
   ],
   "source": [
    "# Читаем сгенерированные запросы\n",
    "predicted = pd.read_csv(\"data/results/pred_qwen25_coder_14b.csv\", sep=\";\", index_col=0)\n",
    "predicted.info()"
   ]
  },
  {
   "cell_type": "code",
   "execution_count": 3,
   "id": "227d07a3",
   "metadata": {},
   "outputs": [
    {
     "name": "stdout",
     "output_type": "stream",
     "text": [
      "<class 'pandas.core.frame.DataFrame'>\n",
      "Index: 927 entries, 1 to 961\n",
      "Data columns (total 2 columns):\n",
      " #   Column  Non-Null Count  Dtype \n",
      "---  ------  --------------  ----- \n",
      " 0   ref     927 non-null    object\n",
      " 1   pred    927 non-null    object\n",
      "dtypes: object(2)\n",
      "memory usage: 21.7+ KB\n"
     ]
    }
   ],
   "source": [
    "# Читаем запросы, которые были успешно выполнены в тестовой базе 1С\n",
    "executed = pd.read_csv(\"data/results/pred_qwen25_coder_14b_exec.csv\", sep=\";\", index_col=0)\n",
    "executed.columns = [\"ref\", \"pred\"]\n",
    "executed.info()"
   ]
  },
  {
   "cell_type": "code",
   "execution_count": 4,
   "id": "32612eba",
   "metadata": {},
   "outputs": [],
   "source": [
    "# Заполняем признак успешного выполнения запроса\n",
    "predicted[\"executed\"] = predicted.index.isin(executed.index).astype(int)"
   ]
  },
  {
   "cell_type": "code",
   "execution_count": 5,
   "id": "2ac4a6b9",
   "metadata": {},
   "outputs": [],
   "source": [
    "# Заполняем признак полного соответствия сгенерированного запроса исходному\n",
    "predicted[\"exact\"] = predicted.apply(\n",
    "    lambda row: str(row[\"ref\"]).lower() == str(row[\"pred\"]).lower(),\n",
    "    axis=1\n",
    ").astype(int)"
   ]
  },
  {
   "cell_type": "code",
   "execution_count": 6,
   "id": "fbb51391",
   "metadata": {},
   "outputs": [
    {
     "name": "stdout",
     "output_type": "stream",
     "text": [
      "Точечная оценка Exact matching: 0.4470\n",
      "95% CI (Wilson): [0.4158, 0.4786]\n"
     ]
    }
   ],
   "source": [
    "# Вычисляем точечную и интервальную оценки Exact matching\n",
    "n = predicted.shape[0]\n",
    "k = sum(predicted[\"exact\"])\n",
    "p_hat = k / n\n",
    "\n",
    "alpha = 0.05\n",
    "lower, upper = proportion_confint(count=k, nobs=n, alpha=alpha, method='wilson')\n",
    "\n",
    "print(f\"Точечная оценка Exact matching: {p_hat:.4f}\")\n",
    "print(f\"95% CI (Wilson): [{lower:.4f}, {upper:.4f}]\")"
   ]
  },
  {
   "cell_type": "code",
   "execution_count": 7,
   "id": "2af6bc1d",
   "metadata": {},
   "outputs": [
    {
     "name": "stdout",
     "output_type": "stream",
     "text": [
      "Точечная оценка Execution accuracy: 0.9636\n",
      "95% CI (Wilson): [0.9498, 0.9737]\n"
     ]
    }
   ],
   "source": [
    "# Вычисляем точечную и интервальную оценки Execution accuracy\n",
    "n = predicted.shape[0]\n",
    "k = sum(predicted[\"executed\"])\n",
    "p_hat = k / n\n",
    "\n",
    "alpha = 0.05\n",
    "lower, upper = proportion_confint(count=k, nobs=n, alpha=alpha, method='wilson')\n",
    "\n",
    "print(f\"Точечная оценка Execution accuracy: {p_hat:.4f}\")\n",
    "print(f\"95% CI (Wilson): [{lower:.4f}, {upper:.4f}]\")"
   ]
  },
  {
   "cell_type": "code",
   "execution_count": 8,
   "id": "626774fd",
   "metadata": {},
   "outputs": [
    {
     "name": "stdout",
     "output_type": "stream",
     "text": [
      "SELECT mean F1 = 0.8916, 95% CI = [0.8752, 0.9082]\n",
      "FROM mean F1 = 0.9292, 95% CI = [0.9152, 0.9433]\n",
      "WHERE mean F1 = 0.9457, 95% CI = [0.9354, 0.9569]\n",
      "GROUP BY mean F1 = 0.9435, 95% CI = [0.9272, 0.9584]\n",
      "HAVING mean F1 = 0.9952, 95% CI = [0.9915, 0.9978]\n",
      "ORDER BY mean F1 = 0.9656, 95% CI = [0.9564, 0.9745]\n"
     ]
    }
   ],
   "source": [
    "# Для оценки Component matching используем бутстрап\n",
    "component_scores = predicted.apply(\n",
    "    lambda row: component_matching_f1(str(row[\"pred\"]), str(row[\"ref\"])),\n",
    "    axis=1\n",
    ")\n",
    "\n",
    "# Для удобства соберём это в массивы по каждой компоненте\n",
    "keys = ['SELECT', 'FROM', 'WHERE', 'GROUP BY', 'HAVING', 'ORDER BY']\n",
    "n = len(component_scores)  # 962\n",
    "\n",
    "# Превратим в словарь \"название компоненты -> список всех F1 по тесту\"\n",
    "all_scores = {key: [] for key in keys}\n",
    "for sample_dict in component_scores:\n",
    "    for k in keys:\n",
    "        all_scores[k].append(sample_dict[k])\n",
    "\n",
    "# Посчитаем \"точечные\" средние (как вы уже делаете)\n",
    "point_estimates = {k: np.mean(all_scores[k]) for k in keys}\n",
    "\n",
    "# Задаём количество бутстрап-итераций\n",
    "n_boot = 1000\n",
    "\n",
    "# Инициализируем структуру для хранения результатов\n",
    "boot_means = {k: [] for k in keys}\n",
    "\n",
    "# Запуск бутстрапа\n",
    "for _ in range(n_boot):\n",
    "    # Сгенерировать индексы с возвращением\n",
    "    indices = np.random.choice(range(n), size=n, replace=True)\n",
    "    \n",
    "    # Для каждой компоненты посчитать среднее по бутстрап-подвыборке\n",
    "    for k in keys:\n",
    "        # Берём F1-значения у нужных индексов\n",
    "        sampled_scores = [all_scores[k][idx] for idx in indices]\n",
    "        boot_means[k].append(np.mean(sampled_scores))\n",
    "\n",
    "# Теперь у нас есть по 1000 средних значений на каждую компоненту\n",
    "ci_results = {}\n",
    "for k in keys:\n",
    "    sorted_vals = np.sort(boot_means[k])\n",
    "    lower_95 = np.percentile(sorted_vals, 2.5)   # 2.5-й перцентиль\n",
    "    upper_95 = np.percentile(sorted_vals, 97.5)  # 97.5-й перцентиль\n",
    "    ci_results[k] = (lower_95, upper_95)\n",
    "\n",
    "# Печатаем результат\n",
    "for k in keys:\n",
    "    print(f\"{k} mean F1 = {point_estimates[k]:.4f}, \"\n",
    "          f\"95% CI = [{ci_results[k][0]:.4f}, {ci_results[k][1]:.4f}]\")\n"
   ]
  }
 ],
 "metadata": {
  "kernelspec": {
   "display_name": ".venv",
   "language": "python",
   "name": "python3"
  },
  "language_info": {
   "codemirror_mode": {
    "name": "ipython",
    "version": 3
   },
   "file_extension": ".py",
   "mimetype": "text/x-python",
   "name": "python",
   "nbconvert_exporter": "python",
   "pygments_lexer": "ipython3",
   "version": "3.11.10"
  }
 },
 "nbformat": 4,
 "nbformat_minor": 5
}
